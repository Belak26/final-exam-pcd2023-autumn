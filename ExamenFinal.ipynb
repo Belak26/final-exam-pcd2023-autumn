{
 "cells": [
  {
   "cell_type": "markdown",
   "source": [
    "      ___   _\n",
    "     |_ _| | |_    ___   ___    ___\n",
    "      | |  | __|  / _ \\ / __|  / _ \\\n",
    "      | |  | |_  |  __/ \\__ \\ | (_) |\n",
    "     |___|  \\__|  \\___| |___/  \\___/\n"
   ],
   "metadata": {
    "collapsed": false
   }
  },
  {
   "cell_type": "markdown",
   "source": [
    "<h1><strong>Funding Challenge!</strong></h1>\n",
    "\n",
    "<hr>\n",
    "<p>Bienvenid@ al Funding Challenge</p>\n",
    "<h2>Descripción</h2>\n",
    "\n",
    "<p>En escuelas de E.U.A los maestros desarrollan proyectos para mejorar las condiciones de los estudiantes, resolver problemáticas como el bullying, mejorar el prendizaje, etc. El dataset <b>Projects_cleansed.csv</b> esta formado por las siguientes columnas:<br>\n",
    "</p>\n",
    "\n",
    "<b>Project Title</b> - Nombre del Proyecto<br>\n",
    "<b>Project Short Description </b> - Descripción corta (198 palabras aprox) y el final de la descripción esta indicada por \"...\"<br>\n",
    "<b>Project Subject Category Tree</b> - es una taxonomía que indica el área al que pertenece el proyecto<br>\n",
    "    <b>Project Cost</b> - es un campo númerico que indica la cantidad que se busca fondear<br>\n",
    "    <b>Project Current Status</b> - Si el proyecto fué fondedado o no<br>\n",
    "\n",
    "\n",
    "El `dataset` con el que se trabajrá lo puede encontrar la carpeta `data`:\n",
    "\n",
    "<h2>Input</h2>\n",
    "<p>El modelo recibirá como entrada, por lo menos:\n",
    "    <ul>\n",
    "        <li><b>descripción</b>: Es una descripción textual sobre la que haremos la predicción</li>\n",
    "        Puede agregar cualquier otra feature que considere necesaria.\n",
    "    </ul>\n",
    "<h2>Output</h2>\n",
    "<p>El output del modelo debe de ser una clasificación <b>1</b>:funded y <b>0</b>: not funded </p><br>\n"
   ],
   "metadata": {
    "collapsed": false
   }
  },
  {
   "cell_type": "markdown",
   "metadata": {},
   "source": []
  }
 ],
 "metadata": {
  "kernelspec": {
   "display_name": "Python 3",
   "language": "python",
   "name": "python3"
  },
  "language_info": {
   "codemirror_mode": {
    "name": "ipython",
    "version": 3
   },
   "file_extension": ".py",
   "mimetype": "text/x-python",
   "name": "python",
   "nbconvert_exporter": "python",
   "pygments_lexer": "ipython3",
   "version": "3.8.9"
  }
 },
 "nbformat": 4,
 "nbformat_minor": 2
}
